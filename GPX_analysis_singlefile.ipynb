{
 "cells": [
  {
   "cell_type": "markdown",
   "metadata": {},
   "source": [
    "# GPX data analysis (single file)\n",
    "\n",
    "This notebook contains some Python test code to analyze and visualize GPX data from a single file. GPX (GPS Exchange Format) is an XML based file format for GPS tracks, and is widely used by dozens of software programs and web services for GPS data analysis and visualization. \n",
    "\n",
    "Data manipulation is done using [gpxpy](https://github.com/tkrajina/gpxpy), a GPX parser for Python, and the [NumPy](http://www.numpy.org/) and [Pandas](https://pandas.pydata.org/) data analysis packages for Python. Visualization is done using:\n",
    "1. [matplotlib](https://matplotlib.org/)\n",
    "2. [folium](https://github.com/python-visualization/folium)\n",
    "3. [mplleaflet](https://github.com/jwass/mplleaflet)\n",
    "\n",
    "## Prerequisites:"
   ]
  },
  {
   "cell_type": "code",
   "execution_count": 1,
   "metadata": {},
   "outputs": [
    {
     "name": "stdout",
     "output_type": "stream",
     "text": [
      "Author: gmalim\n",
      "\n",
      "last updated: Sat Jul 14 2018\n",
      "\n",
      "CPython 3.6.5\n",
      "IPython 6.4.0\n",
      "\n",
      "numpy 1.14.5\n",
      "pandas 0.23.3\n",
      "gpxpy n\u0007\n",
      "matplotlib 2.2.2\n",
      "seawater 3.3.4\n",
      "mplleaflet n\u0007\n",
      "folium 0.5.0\n",
      "\n",
      "compiler   : GCC 4.2.1 Compatible Apple LLVM 8.0.0 (clang-800.0.42.1)\n",
      "system     : Darwin\n",
      "release    : 15.6.0\n",
      "machine    : x86_64\n",
      "processor  : i386\n",
      "CPU cores  : 2\n",
      "interpreter: 64bit\n"
     ]
    }
   ],
   "source": [
    "import datetime\n",
    "import numpy as np\n",
    "import pandas as pd\n",
    "import gpxpy\n",
    "\n",
    "import matplotlib.pyplot as plt\n",
    "from folium import Map, LatLngPopup, PolyLine, CircleMarker, LayerControl, plugins\n",
    "import seawater\n",
    "import mplleaflet\n",
    "\n",
    "%load_ext watermark\n",
    "%watermark -a \"Author: gmalim\" \n",
    "print(\"\")\n",
    "%watermark -u -n\n",
    "print(\"\")\n",
    "%watermark -v -p numpy,pandas,gpxpy,matplotlib,seawater,mplleaflet,folium\n",
    "print(\"\")\n",
    "%watermark -m"
   ]
  },
  {
   "cell_type": "markdown",
   "metadata": {},
   "source": [
    "## Load data:"
   ]
  },
  {
   "cell_type": "markdown",
   "metadata": {},
   "source": [
    "Load single GPX file:"
   ]
  },
  {
   "cell_type": "code",
   "execution_count": 2,
   "metadata": {},
   "outputs": [
    {
     "name": "stdout",
     "output_type": "stream",
     "text": [
      "File: data/SFMarathon2015.gpx\n",
      "    Length 2D: 44.548km\n",
      "    Length 3D: 44.696km\n",
      "    Moving time: 05:25:46\n",
      "    Stopped time: 00:10:14\n",
      "    Max speed: 3.00m/s = 10.81km/h\n",
      "    Total uphill: 760.16m\n",
      "    Total downhill: 759.16m\n",
      "    Started: 2015-07-26 12:43:13\n",
      "    Ended: 2015-07-26 18:19:13\n",
      "    Points: 20151\n",
      "    Avg distance between points: 2.21m\n",
      "\n",
      "    Track #0, Segment #0\n",
      "        Length 2D: 44.548km\n",
      "        Length 3D: 44.696km\n",
      "        Moving time: 05:25:46\n",
      "        Stopped time: 00:10:14\n",
      "        Max speed: 3.00m/s = 10.81km/h\n",
      "        Total uphill: 760.16m\n",
      "        Total downhill: 759.16m\n",
      "        Started: 2015-07-26 12:43:13\n",
      "        Ended: 2015-07-26 18:19:13\n",
      "        Points: 20151\n",
      "        Avg distance between points: 2.21m\n",
      "\n"
     ]
    }
   ],
   "source": [
    "!gpxinfo data/SFMarathon2015.gpx"
   ]
  },
  {
   "cell_type": "code",
   "execution_count": 3,
   "metadata": {},
   "outputs": [
    {
     "name": "stdout",
     "output_type": "stream",
     "text": [
      "--> File contains 1 track(s)\n",
      "--> File contains 1 segment(s)\n",
      "--> File contains 20151 point(s)\n",
      "\n",
      "--> Track name       = SF Marathon 2015\n",
      "--> Track start time = 2015-07-26 12:43:13\n",
      "--> Track end time   = 2015-07-26 18:19:13\n",
      "--> Track length     = 44.696 km\n",
      "--> Track duration   = 20160 secs\n",
      "--> Track duration   = 5:36:00 (h:m:s)\n",
      "--> Track ave speed  = 7.981 km/hr\n",
      "--> Track max speed  = 10.806 km/hr\n"
     ]
    }
   ],
   "source": [
    "filename = 'data/SFMarathon2015.gpx'\n",
    "gpx_file = open(filename, 'r')\n",
    "gpx = gpxpy.parse(gpx_file)\n",
    "\n",
    "print(\"--> File contains {} track(s)\".format(len(gpx.tracks)))\n",
    "\n",
    "track = gpx.tracks[0]\n",
    "\n",
    "print(\"--> File contains {} segment(s)\".format(len(track.segments)))\n",
    "\n",
    "segment = track.segments[0]\n",
    "\n",
    "print(\"--> File contains {} point(s)\".format(len(segment.points)))\n",
    "\n",
    "track_length   = track.length_3d()    # [m]\n",
    "track_duration = track.get_duration() # [s]\n",
    "\n",
    "print(\"\")\n",
    "print(\"--> Track name       =\", track.name)\n",
    "print(\"--> Track start time =\", track.get_time_bounds().start_time)\n",
    "print(\"--> Track end time   =\", track.get_time_bounds().end_time)\n",
    "print(\"--> Track length     = {:.3f} km\".format(track_length*1e-3))\n",
    "print(\"--> Track duration   = {} secs\".format(track_duration))\n",
    "print(\"--> Track duration   = {} (h:m:s)\".format(datetime.timedelta(seconds=track_duration)))\n",
    "print(\"--> Track ave speed  = {:.3f} km/hr\".format(track_length/track_duration*3.6))\n",
    "print(\"--> Track max speed  = {:.3f} km/hr\".format(track.get_moving_data().max_speed*3.6))"
   ]
  },
  {
   "cell_type": "markdown",
   "metadata": {},
   "source": [
    "Create list of GPX points from run data:"
   ]
  },
  {
   "cell_type": "code",
   "execution_count": 4,
   "metadata": {},
   "outputs": [],
   "source": [
    "gpx_points = []\n",
    "\n",
    "for point_idx, point in enumerate(segment.points):\n",
    "            \n",
    "    gpx_points.append([point.time, \n",
    "                       point.latitude, \n",
    "                       point.longitude, \n",
    "                       point.elevation, \n",
    "                       segment.get_speed(point_idx)])"
   ]
  },
  {
   "cell_type": "markdown",
   "metadata": {},
   "source": [
    "Transform list of GPX points into Pandas dataframe:"
   ]
  },
  {
   "cell_type": "code",
   "execution_count": 5,
   "metadata": {},
   "outputs": [
    {
     "name": "stdout",
     "output_type": "stream",
     "text": [
      "           Point_Time  Point_Latitude  Point_Longitude  Point_Elevation  \\\n",
      "0 2015-07-26 12:43:13       37.793376      -122.391913              1.0   \n",
      "1 2015-07-26 12:43:14       37.793384      -122.391930              1.0   \n",
      "2 2015-07-26 12:43:15       37.793391      -122.391957              1.0   \n",
      "3 2015-07-26 12:43:16       37.793414      -122.391976              1.0   \n",
      "4 2015-07-26 12:43:17       37.793435      -122.392001              1.0   \n",
      "\n",
      "   Point_Speed  \n",
      "0     1.714262  \n",
      "1     2.102781  \n",
      "2     2.801284  \n",
      "3     3.142683  \n",
      "4     3.500992  \n"
     ]
    }
   ],
   "source": [
    "column_list = ['Point_Time', \n",
    "               'Point_Latitude',\n",
    "               'Point_Longitude', \n",
    "               'Point_Elevation', \n",
    "               'Point_Speed']\n",
    "\n",
    "df = pd.DataFrame(gpx_points, columns=column_list)\n",
    "\n",
    "print(df.head())"
   ]
  },
  {
   "cell_type": "markdown",
   "metadata": {},
   "source": [
    "## Visualization:\n",
    "\n",
    "Create simple map of GPS data using **matplotlib**:"
   ]
  },
  {
   "cell_type": "code",
   "execution_count": 6,
   "metadata": {},
   "outputs": [
    {
     "data": {
      "image/png": "[encoded data removed]",
      "text/plain": [
       "<Figure size 1440x1440 with 1 Axes>"
      ]
     },
     "metadata": {},
     "output_type": "display_data"
    }
   ],
   "source": [
    "fig = plt.figure(figsize=(20,20), facecolor='black')\n",
    "ax = plt.Axes(fig, [0., 0., 1., 1.], )\n",
    "ax.set_aspect('equal')\n",
    "ax.set_axis_off()\n",
    "fig.add_axes(ax)\n",
    "plt.plot(df['Point_Longitude'], df['Point_Latitude'], color='deepskyblue')\n",
    "plt.show()"
   ]
  },
  {
   "cell_type": "markdown",
   "metadata": {},
   "source": [
    "Create [Leaflet.js](https://leafletjs.com/) map of GPS data using **folium**:"
   ]
  },
  {
   "cell_type": "code",
   "execution_count": 7,
   "metadata": {},
   "outputs": [],
   "source": [
    "# Create basemap:\n",
    "\n",
    "fmap = Map(location=[df.Point_Latitude.mean()+0.01, df.Point_Longitude.mean()], zoom_start=13, \n",
    "           control_scale = True, tiles=None)\n",
    "\n",
    "# Add tilesets to map:\n",
    "\n",
    "builtin_tilesets = ['OpenStreetMap', 'CartoDB Positron']\n",
    "\n",
    "for bts in builtin_tilesets:\n",
    "    fmap.add_tile_layer(tiles=bts, name=bts)\n",
    "\n",
    "mapservernames = ['World_Topo_Map', 'World_Imagery']\n",
    "\n",
    "for msn in mapservernames:\n",
    "    url_base = 'http://server.arcgisonline.com/ArcGIS/rest/services/'\n",
    "    service = msn + '/MapServer/tile/{z}/{y}/{x}'\n",
    "    tileset = url_base + service\n",
    "    fmap.add_tile_layer(tiles=tileset, name=msn, attr=msn)\n",
    "    \n",
    "# Add fullscreen button:\n",
    "\n",
    "plugins.Fullscreen(\n",
    "    position='topleft',\n",
    "    title='Enter fullscreen-mode',\n",
    "    title_cancel='Exit fullscreen-mode',\n",
    "    force_separate_button=True).add_to(fmap)\n",
    "\n",
    "# Add button to enabling/disabling scrolling - DOESN'T WORK?:\n",
    "\n",
    "# plugins.ScrollZoomToggler().add_to(fmap)\n",
    "\n",
    "# Add latitude-longitude popup click-tool:\n",
    "\n",
    "fmap.add_child(LatLngPopup())\n",
    "\n",
    "# Add track to map:\n",
    "\n",
    "polylinepoints = []\n",
    "for lat, lon in zip(df['Point_Latitude'], df['Point_Longitude']):\n",
    "    polylinepoints.append(tuple([lat,lon]))\n",
    "\n",
    "PolyLine(locations=polylinepoints, color=\"blue\", weight=5, opacity=0.5).add_to(fmap)\n",
    "\n",
    "# Add minute-spaced points along track to map:\n",
    "\n",
    "for i, coord in enumerate(df[['Point_Latitude','Point_Longitude']].values):\n",
    "    if (i%60 != 0):\n",
    "        continue\n",
    "    CircleMarker(location=[coord[0],coord[1]], radius=1, color='red').add_to(fmap)\n",
    "\n",
    "# Add layer-control button:\n",
    "    \n",
    "lc = LayerControl()\n",
    "fmap.add_child(lc)\n",
    "    \n",
    "# Save map:\n",
    "    \n",
    "fmap.save('folium_map.html')"
   ]
  },
  {
   "cell_type": "code",
   "execution_count": 8,
   "metadata": {},
   "outputs": [
    {
     "data": {
      "text/html": [
       "<iframe width=\"100%\" height=\"700\" src=\"folium_map.html\"></iframe>"
      ],
      "text/plain": [
       "<IPython.core.display.HTML object>"
      ]
     },
     "metadata": {},
     "output_type": "display_data"
    }
   ],
   "source": [
    "%%HTML\n",
    "<iframe width=\"100%\" height=\"700\" src=\"folium_map.html\"></iframe>"
   ]
  },
  {
   "cell_type": "markdown",
   "metadata": {},
   "source": [
    "Create [Leaflet.js](https://leafletjs.com/) quiver map of GPS data using **mplleaflet**:"
   ]
  },
  {
   "cell_type": "code",
   "execution_count": 9,
   "metadata": {},
   "outputs": [],
   "source": [
    "# Calculate angles between GPS points:\n",
    "_, angles = seawater.dist(df['Point_Latitude'], df['Point_Longitude'])\n",
    "angles = np.r_[0, np.deg2rad(angles)]\n",
    "\n",
    "# Normalize arrow lengths using speed:\n",
    "max_speed = df['Point_Speed'].max()\n",
    "r = df['Point_Speed'] / max_speed\n",
    "df['u'] = r * np.cos(angles)\n",
    "df['v'] = r * np.sin(angles)\n",
    "\n",
    "fig, ax = plt.subplots()\n",
    "ax.plot(df['Point_Longitude'], df['Point_Latitude'], color='deepskyblue', linewidth=5, alpha=0.8)\n",
    "\n",
    "skip = 20\n",
    "ax.quiver(df['Point_Longitude'][::skip], df['Point_Latitude'][::skip], \n",
    "          df['u'][::skip], df['v'][::skip], color='magenta', scale=20)\n",
    "\n",
    "#mplleaflet.display(fig=fig) \n",
    "#mplleaflet.display(fig=fig, tiles='esri_aerial') \n",
    "mplleaflet.show(path='mplleaflet_map.html', tiles='esri_aerial')"
   ]
  },
  {
   "cell_type": "code",
   "execution_count": 10,
   "metadata": {},
   "outputs": [
    {
     "data": {
      "text/html": [
       "<iframe width=\"100%\" height=\"700\" src=\"mplleaflet_map.html\"></iframe>"
      ],
      "text/plain": [
       "<IPython.core.display.HTML object>"
      ]
     },
     "metadata": {},
     "output_type": "display_data"
    }
   ],
   "source": [
    "%%HTML\n",
    "<iframe width=\"100%\" height=\"700\" src=\"mplleaflet_map.html\"></iframe>"
   ]
  }
 ],
 "metadata": {
  "kernelspec": {
   "display_name": "Python 3",
   "language": "python",
   "name": "python3"
  },
  "language_info": {
   "codemirror_mode": {
    "name": "ipython",
    "version": 3
   },
   "file_extension": ".py",
   "mimetype": "text/x-python",
   "name": "python",
   "nbconvert_exporter": "python",
   "pygments_lexer": "ipython3",
   "version": "3.6.5"
  }
 },
 "nbformat": 4,
 "nbformat_minor": 2
}
